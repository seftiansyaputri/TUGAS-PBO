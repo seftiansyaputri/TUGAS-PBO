{
 "cells": [
  {
   "cell_type": "code",
   "execution_count": 1,
   "id": "58a8423b",
   "metadata": {},
   "outputs": [
    {
     "name": "stdout",
     "output_type": "stream",
     "text": [
      "hello world\n"
     ]
    }
   ],
   "source": [
    "print (\"hello world\")"
   ]
  },
  {
   "cell_type": "code",
   "execution_count": 2,
   "id": "269101c7",
   "metadata": {},
   "outputs": [
    {
     "name": "stdout",
     "output_type": "stream",
     "text": [
      "25\n"
     ]
    }
   ],
   "source": [
    "print(10*2+5)"
   ]
  },
  {
   "cell_type": "code",
   "execution_count": 3,
   "id": "73390beb",
   "metadata": {},
   "outputs": [
    {
     "name": "stdout",
     "output_type": "stream",
     "text": [
      "2023 Aku kaya mulia\n"
     ]
    }
   ],
   "source": [
    "# Jawab Tugas Praktek 3.1 Nomor 2\n",
    "print(\"2023 Aku kaya mulia\")"
   ]
  },
  {
   "cell_type": "code",
   "execution_count": 4,
   "id": "b8dff2fe",
   "metadata": {},
   "outputs": [
    {
     "name": "stdout",
     "output_type": "stream",
     "text": [
      "Seftian budi syahputri\n"
     ]
    }
   ],
   "source": [
    "# Jawab Tugas Praktek 3.1 Nomor 3\n",
    "print(\"Seftian budi syahputri\")"
   ]
  },
  {
   "cell_type": "code",
   "execution_count": null,
   "id": "05b2208b",
   "metadata": {},
   "outputs": [],
   "source": []
  }
 ],
 "metadata": {
  "kernelspec": {
   "display_name": "Python 3 (ipykernel)",
   "language": "python",
   "name": "python3"
  },
  "language_info": {
   "codemirror_mode": {
    "name": "ipython",
    "version": 3
   },
   "file_extension": ".py",
   "mimetype": "text/x-python",
   "name": "python",
   "nbconvert_exporter": "python",
   "pygments_lexer": "ipython3",
   "version": "3.9.5"
  }
 },
 "nbformat": 4,
 "nbformat_minor": 5
}
